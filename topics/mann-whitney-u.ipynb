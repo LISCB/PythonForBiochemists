{
 "cells": [
  {
   "cell_type": "markdown",
   "metadata": {},
   "source": [
    "<img style=\"float: right;\" src=\"http://www2.le.ac.uk/liscb1.jpg\">  \n",
    "# Leicester Institute of Structural and Chemical Biology: Python for Biochemists\n",
    "# The Mann–Whitney *U* test"
   ]
  },
  {
   "cell_type": "markdown",
   "metadata": {},
   "source": [
    "Description  \n",
    "## Requirements\n",
    "In order to use the Mann-Whitney U test reliably, you must have:\n",
    "* Independent (non-paired, non-sequential) observations\n",
    "* Ordinal observations, i.e. you can tell if an observation is 'more than' another observation\n",
    "* The distributions of both populations are equal under the null hypothesis\n",
    "* The distributions the two populations are unequal under the alternative hypothesis\n",
    "* \\> ~20 observations  \n",
    "\n",
    "Probably the easiest way to understand how the Mann-Whitney *U* test works is to do a simple example in code.  \n",
    "\n",
    "For comparing two small sets of observations, a direct method is quick, and gives insight into the meaning of the U statistic, which corresponds to the number of wins out of all pairwise contests (The tortoise and hare example below is taken from the [Wikipedia article](https://en.wikipedia.org/wiki/Mann%E2%80%93Whitney_U_test))."
   ]
  },
  {
   "cell_type": "code",
   "execution_count": 1,
   "metadata": {},
   "outputs": [],
   "source": [
    "# We run a race with 6 tortoises and 6 hares.  What's the finishing order? \n",
    "race_result = ['T', 'H', 'H', 'H', 'H', 'H', 'T', 'T', 'T', 'T', 'T', 'H']"
   ]
  },
  {
   "cell_type": "code",
   "execution_count": 2,
   "metadata": {},
   "outputs": [],
   "source": [
    "def mann_whitney_u_sequence(sequence):\n",
    "    labels = tuple(set(sequence))\n",
    "    if len(labels) != 2:\n",
    "        raise ValueError('There must be exactly two kinds of things in your sequence.')\n",
    "        \n",
    "    wins = {label:0 for label in labels}\n",
    "    for i, item in enumerate(sequence):  # Enumerate every item in the list.\n",
    "        for later_item in sequence[i:]:  # Now check every item that comes later in the sequence,...\n",
    "            if item != later_item:       # and if later_item is the other kind of thing, item scores a win.\n",
    "                wins[item] += 1\n",
    "    return wins   "
   ]
  },
  {
   "cell_type": "code",
   "execution_count": 3,
   "metadata": {},
   "outputs": [
    {
     "name": "stdout",
     "output_type": "stream",
     "text": [
      "The Mann-Whitney-U values are: {'H': 25, 'T': 11}\n"
     ]
    }
   ],
   "source": [
    "u_sequence = mann_whitney_u_sequence(race_result)\n",
    "print(f'The Mann-Whitney-U values are: {u_sequence}')"
   ]
  },
  {
   "cell_type": "markdown",
   "metadata": {},
   "source": [
    "If we have a list of placings, we can see how the Mann-Whiteney-U test deals with ties:"
   ]
  },
  {
   "cell_type": "code",
   "execution_count": 4,
   "metadata": {},
   "outputs": [],
   "source": [
    "finishing_places_hares = [2, 3, 4, 5, 6, 11]\n",
    "finishing_places_tortoises = [1, 7, 8, 9, 10, 11]"
   ]
  },
  {
   "cell_type": "code",
   "execution_count": 5,
   "metadata": {},
   "outputs": [
    {
     "data": {
      "text/plain": [
       "(10.5, 25.5)"
      ]
     },
     "execution_count": 5,
     "metadata": {},
     "output_type": "execute_result"
    }
   ],
   "source": [
    "def mann_whitney_u_places(places_1, places_2):\n",
    "    u_1 = 0\n",
    "    \n",
    "    for place_1 in places_1:            # For every place in places_1,\n",
    "        for place_2 in places_2:        # compare it to every place in places_2,\n",
    "            if place_1 > place_2:       # If place_1 is more, it wins.\n",
    "                u_1 += 1\n",
    "            elif place_1 == place_2:    # If place_1 is the same, it gets half a win.\n",
    "                u_1 += 0.5\n",
    "                \n",
    "    u_2 = (len(places_1) * len(places_2)) - u_1\n",
    "    \n",
    "    return (u_1, u_2)\n",
    "mann_whitney_u_places(finishing_places_hares, finishing_places_tortoises)"
   ]
  },
  {
   "cell_type": "code",
   "execution_count": 6,
   "metadata": {},
   "outputs": [
    {
     "name": "stdout",
     "output_type": "stream",
     "text": [
      "The Mann-Whitney-U values are: (10.5, 25.5)\n"
     ]
    }
   ],
   "source": [
    "u_places = mann_whitney_u_places(finishing_places_hares, finishing_places_tortoises)\n",
    "print(f'The Mann-Whitney-U values are: {u_places}')"
   ]
  },
  {
   "cell_type": "markdown",
   "metadata": {},
   "source": [
    "While this works for small datasets, once they get bigger, it becomes computationally very expensive.  Fortunatelly, there's a faster, more robust version in `scipy`, that also gives the p-value - but make sure to specify if you're looking for the `'two-side'` or one-sided (with `'less'` or `'greater'`) alternative hypothesis:"
   ]
  },
  {
   "cell_type": "code",
   "execution_count": 7,
   "metadata": {},
   "outputs": [
    {
     "name": "stdout",
     "output_type": "stream",
     "text": [
      "The Mann-Whitney-U statistic for the first group is 10.5\n",
      "The Mann-Whitney-U p-value is 0.26149617619114585\n"
     ]
    }
   ],
   "source": [
    "from scipy.stats import mannwhitneyu\n",
    "\n",
    "result = mannwhitneyu(finishing_places_hares, finishing_places_tortoises, alternative='two-sided')\n",
    "\n",
    "print(f'The Mann-Whitney-U statistic for the first group is {result.statistic}')\n",
    "print(f'The Mann-Whitney-U p-value is {result.pvalue}')"
   ]
  },
  {
   "cell_type": "code",
   "execution_count": null,
   "metadata": {},
   "outputs": [],
   "source": []
  },
  {
   "cell_type": "code",
   "execution_count": null,
   "metadata": {},
   "outputs": [],
   "source": []
  }
 ],
 "metadata": {
  "kernelspec": {
   "display_name": "Python 3",
   "language": "python",
   "name": "python3"
  },
  "language_info": {
   "codemirror_mode": {
    "name": "ipython",
    "version": 3
   },
   "file_extension": ".py",
   "mimetype": "text/x-python",
   "name": "python",
   "nbconvert_exporter": "python",
   "pygments_lexer": "ipython3",
   "version": "3.7.6"
  }
 },
 "nbformat": 4,
 "nbformat_minor": 4
}
